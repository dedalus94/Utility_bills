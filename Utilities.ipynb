{
 "cells": [
  {
   "cell_type": "code",
   "execution_count": 325,
   "metadata": {},
   "outputs": [],
   "source": [
    "import numpy as np\n",
    "import pandas as pd\n",
    "import matplotlib.pyplot as plt\n",
    "from datetime import datetime"
   ]
  },
  {
   "cell_type": "code",
   "execution_count": 326,
   "metadata": {},
   "outputs": [
    {
     "data": {
      "text/html": [
       "<div>\n",
       "<style scoped>\n",
       "    .dataframe tbody tr th:only-of-type {\n",
       "        vertical-align: middle;\n",
       "    }\n",
       "\n",
       "    .dataframe tbody tr th {\n",
       "        vertical-align: top;\n",
       "    }\n",
       "\n",
       "    .dataframe thead th {\n",
       "        text-align: right;\n",
       "    }\n",
       "</style>\n",
       "<table border=\"1\" class=\"dataframe\">\n",
       "  <thead>\n",
       "    <tr style=\"text-align: right;\">\n",
       "      <th></th>\n",
       "      <th>kWh</th>\n",
       "      <th>Date</th>\n",
       "    </tr>\n",
       "  </thead>\n",
       "  <tbody>\n",
       "    <tr>\n",
       "      <th>0</th>\n",
       "      <td>59375.2</td>\n",
       "      <td>06/06/2020</td>\n",
       "    </tr>\n",
       "    <tr>\n",
       "      <th>1</th>\n",
       "      <td>59451.2</td>\n",
       "      <td>25/06/2020</td>\n",
       "    </tr>\n",
       "    <tr>\n",
       "      <th>2</th>\n",
       "      <td>59814.6</td>\n",
       "      <td>15/08/2020</td>\n",
       "    </tr>\n",
       "    <tr>\n",
       "      <th>3</th>\n",
       "      <td>59881.0</td>\n",
       "      <td>06/09/2020</td>\n",
       "    </tr>\n",
       "    <tr>\n",
       "      <th>4</th>\n",
       "      <td>60083.6</td>\n",
       "      <td>28/09/2020</td>\n",
       "    </tr>\n",
       "    <tr>\n",
       "      <th>5</th>\n",
       "      <td>60272.5</td>\n",
       "      <td>11/10/2020</td>\n",
       "    </tr>\n",
       "    <tr>\n",
       "      <th>6</th>\n",
       "      <td>60346.2</td>\n",
       "      <td>15/10/2020</td>\n",
       "    </tr>\n",
       "  </tbody>\n",
       "</table>\n",
       "</div>"
      ],
      "text/plain": [
       "       kWh        Date\n",
       "0  59375.2  06/06/2020\n",
       "1  59451.2  25/06/2020\n",
       "2  59814.6  15/08/2020\n",
       "3  59881.0  06/09/2020\n",
       "4  60083.6  28/09/2020\n",
       "5  60272.5  11/10/2020\n",
       "6  60346.2  15/10/2020"
      ]
     },
     "execution_count": 326,
     "metadata": {},
     "output_type": "execute_result"
    }
   ],
   "source": [
    "bills_df= pd.read_csv(\"bills.csv\")\n",
    "bills_df"
   ]
  },
  {
   "cell_type": "code",
   "execution_count": 327,
   "metadata": {},
   "outputs": [
    {
     "data": {
      "text/html": [
       "<div>\n",
       "<style scoped>\n",
       "    .dataframe tbody tr th:only-of-type {\n",
       "        vertical-align: middle;\n",
       "    }\n",
       "\n",
       "    .dataframe tbody tr th {\n",
       "        vertical-align: top;\n",
       "    }\n",
       "\n",
       "    .dataframe thead th {\n",
       "        text-align: right;\n",
       "    }\n",
       "</style>\n",
       "<table border=\"1\" class=\"dataframe\">\n",
       "  <thead>\n",
       "    <tr style=\"text-align: right;\">\n",
       "      <th></th>\n",
       "      <th>kWh</th>\n",
       "      <th>Date</th>\n",
       "      <th>DateTime</th>\n",
       "    </tr>\n",
       "  </thead>\n",
       "  <tbody>\n",
       "    <tr>\n",
       "      <th>0</th>\n",
       "      <td>59375.2</td>\n",
       "      <td>06/06/2020</td>\n",
       "      <td>2020-06-06</td>\n",
       "    </tr>\n",
       "    <tr>\n",
       "      <th>1</th>\n",
       "      <td>59451.2</td>\n",
       "      <td>25/06/2020</td>\n",
       "      <td>2020-06-25</td>\n",
       "    </tr>\n",
       "    <tr>\n",
       "      <th>2</th>\n",
       "      <td>59814.6</td>\n",
       "      <td>15/08/2020</td>\n",
       "      <td>2020-08-15</td>\n",
       "    </tr>\n",
       "    <tr>\n",
       "      <th>3</th>\n",
       "      <td>59881.0</td>\n",
       "      <td>06/09/2020</td>\n",
       "      <td>2020-09-06</td>\n",
       "    </tr>\n",
       "    <tr>\n",
       "      <th>4</th>\n",
       "      <td>60083.6</td>\n",
       "      <td>28/09/2020</td>\n",
       "      <td>2020-09-28</td>\n",
       "    </tr>\n",
       "    <tr>\n",
       "      <th>5</th>\n",
       "      <td>60272.5</td>\n",
       "      <td>11/10/2020</td>\n",
       "      <td>2020-10-11</td>\n",
       "    </tr>\n",
       "    <tr>\n",
       "      <th>6</th>\n",
       "      <td>60346.2</td>\n",
       "      <td>15/10/2020</td>\n",
       "      <td>2020-10-15</td>\n",
       "    </tr>\n",
       "  </tbody>\n",
       "</table>\n",
       "</div>"
      ],
      "text/plain": [
       "       kWh        Date   DateTime\n",
       "0  59375.2  06/06/2020 2020-06-06\n",
       "1  59451.2  25/06/2020 2020-06-25\n",
       "2  59814.6  15/08/2020 2020-08-15\n",
       "3  59881.0  06/09/2020 2020-09-06\n",
       "4  60083.6  28/09/2020 2020-09-28\n",
       "5  60272.5  11/10/2020 2020-10-11\n",
       "6  60346.2  15/10/2020 2020-10-15"
      ]
     },
     "execution_count": 327,
     "metadata": {},
     "output_type": "execute_result"
    }
   ],
   "source": [
    "date_lst=[]\n",
    "\n",
    "for date in bills_df.Date:\n",
    "\n",
    "    date=datetime.strptime(date, \"%d/%m/%Y\")\n",
    "    date_lst.append(date)\n",
    "bills_df[\"DateTime\"]=date_lst\n",
    "\n",
    "bills_df"
   ]
  },
  {
   "cell_type": "code",
   "execution_count": 328,
   "metadata": {},
   "outputs": [],
   "source": [
    "xticks=bills_df[\"DateTime\"]-bills_df[\"DateTime\"][0]\n",
    "x_ticks=[]\n",
    "for xtick in xticks: \n",
    "    x_ticks.append(xtick.days)\n"
   ]
  },
  {
   "cell_type": "code",
   "execution_count": 329,
   "metadata": {},
   "outputs": [],
   "source": [
    "days_lst=[0]\n",
    "m=0\n",
    "n=0\n",
    "for days in bills_df[\"DateTime\"]:\n",
    "    \n",
    "        m+=1\n",
    "        \n",
    "        if m<bills_df.shape[0]:\n",
    "            \n",
    "            delta=bills_df[\"DateTime\"][m]-bills_df[\"DateTime\"][n]\n",
    "            n+=1\n",
    "            days_lst.append(delta.days)\n",
    "        else:\n",
    "            break\n",
    "            \n"
   ]
  },
  {
   "cell_type": "code",
   "execution_count": 330,
   "metadata": {},
   "outputs": [],
   "source": [
    "\n",
    "diff= bills_df[\"kWh\"].values[1:]-bills_df[\"kWh\"].values[:-1]\n",
    "\n",
    "diff=np.append([0],diff)\n",
    "\n"
   ]
  },
  {
   "cell_type": "code",
   "execution_count": 331,
   "metadata": {},
   "outputs": [
    {
     "name": "stderr",
     "output_type": "stream",
     "text": [
      "<ipython-input-331-5b8e0e5d3a52>:3: RuntimeWarning: invalid value encountered in true_divide\n",
      "  cons= diff/days_lst\n"
     ]
    },
    {
     "data": {
      "text/plain": [
       "131"
      ]
     },
     "execution_count": 331,
     "metadata": {},
     "output_type": "execute_result"
    }
   ],
   "source": [
    "cost=diff*0.1875\n",
    "\n",
    "cons= diff/days_lst\n",
    "cons[0]=0\n",
    "\n",
    "time_span= bills_df[\"DateTime\"][bills_df.shape[0]-1]-bills_df[\"DateTime\"][0]\n",
    "time_span.days"
   ]
  },
  {
   "cell_type": "code",
   "execution_count": 332,
   "metadata": {},
   "outputs": [],
   "source": [
    "a=(time_span.days+1)\n",
    "a=np.zeros(a)\n"
   ]
  },
  {
   "cell_type": "code",
   "execution_count": 333,
   "metadata": {},
   "outputs": [],
   "source": [
    "n=0\n",
    "for x in x_ticks:\n",
    "    \n",
    "    a[x]= diff[n]\n",
    "    n+=1"
   ]
  },
  {
   "cell_type": "markdown",
   "metadata": {},
   "source": [
    "average price for the UK is 18.75 p/kWh"
   ]
  },
  {
   "cell_type": "code",
   "execution_count": 334,
   "metadata": {},
   "outputs": [],
   "source": [
    "daily_avg=[]\n",
    "b=[]\n",
    "m=0\n",
    "for days in list(df.days.values):\n",
    "    b=[]\n",
    "    b.append(list(df.consumption.values)[m])\n",
    "    daily_avg+= b*days\n",
    "    m+=1\n",
    "    \n"
   ]
  },
  {
   "cell_type": "code",
   "execution_count": 335,
   "metadata": {},
   "outputs": [],
   "source": [
    "d={\"January\":[0],\"february\":[0],\"March\":[0],\"April\":[0],\"May\":[0],\"June\":[0],\"July\":[0],\"August\":[0],\"September\":[0],\"October\":[0],\"November\":[0],\"December\":[0],}\n",
    "monthly=pd.DataFrame(d)\n"
   ]
  },
  {
   "cell_type": "code",
   "execution_count": 336,
   "metadata": {},
   "outputs": [],
   "source": [
    "\n",
    "for m in range(0,13):\n",
    "    for row in range(df.shape[0]):\n",
    "        \n",
    "        date_obj=datetime.strptime(df.iloc[row].date, \"%d/%m/%Y\")\n",
    "        if date_obj.month-1 ==m: \n",
    "            #print(df.iloc[row].increase)\n",
    "            \n",
    "            monthly[monthly.columns[m]]= monthly[monthly.columns[m]] + df.iloc[row].increase\n",
    "\n"
   ]
  },
  {
   "cell_type": "code",
   "execution_count": 337,
   "metadata": {},
   "outputs": [
    {
     "data": {
      "text/plain": [
       "'plt.title(\"Kwh increase from previous reading (in kWh)\")\\n\\nplt.bar(range(len(diff)),diff)\\nplt.xticks(range(len(diff)),bills_df.Date, rotation=20)\\nplt.show()'"
      ]
     },
     "execution_count": 337,
     "metadata": {},
     "output_type": "execute_result"
    }
   ],
   "source": [
    "\"\"\"plt.title(\"Kwh increase from previous reading (in kWh)\")\n",
    "\n",
    "plt.bar(range(len(diff)),diff)\n",
    "plt.xticks(range(len(diff)),bills_df.Date, rotation=20)\n",
    "plt.show()\"\"\""
   ]
  },
  {
   "cell_type": "code",
   "execution_count": 338,
   "metadata": {},
   "outputs": [
    {
     "data": {
      "text/plain": [
       "'plt.title(\"increase from previous reading vs days\")\\n\\nplt.bar(range(time_span.days+1),a)\\nplt.xticks(x_ticks,bills_df.Date, rotation=20)\\n\\nplt.show()'"
      ]
     },
     "execution_count": 338,
     "metadata": {},
     "output_type": "execute_result"
    }
   ],
   "source": [
    "\"\"\"plt.title(\"increase from previous reading vs days\")\n",
    "\n",
    "plt.bar(range(time_span.days+1),a)\n",
    "plt.xticks(x_ticks,bills_df.Date, rotation=20)\n",
    "\n",
    "plt.show()\"\"\""
   ]
  },
  {
   "cell_type": "code",
   "execution_count": 339,
   "metadata": {},
   "outputs": [
    {
     "data": {
      "text/plain": [
       "'plt.title(\"daily average in Kwh\")\\n\\nplt.plot(range(len(daily_avg)),daily_avg)\\nplt.xticks(x_ticks,bills_df.Date, rotation=20)\\nplt.show()\\n\\n'"
      ]
     },
     "execution_count": 339,
     "metadata": {},
     "output_type": "execute_result"
    }
   ],
   "source": [
    "\n",
    "\"\"\"plt.title(\"daily average in Kwh\")\n",
    "\n",
    "plt.plot(range(len(daily_avg)),daily_avg)\n",
    "plt.xticks(x_ticks,bills_df.Date, rotation=20)\n",
    "plt.show()\n",
    "\n",
    "\"\"\""
   ]
  },
  {
   "cell_type": "code",
   "execution_count": 340,
   "metadata": {},
   "outputs": [
    {
     "data": {
      "text/plain": [
       "'\\n\\nmonthly_cost=monthly/18.75\\nmonthly_cost.plot(table=True, kind=\"bar\", title=\"Monthly cost in GBP\")\\n\\n'"
      ]
     },
     "execution_count": 340,
     "metadata": {},
     "output_type": "execute_result"
    }
   ],
   "source": [
    "\"\"\"\n",
    "\n",
    "monthly_cost=monthly/18.75\n",
    "monthly_cost.plot(table=True, kind=\"bar\", title=\"Monthly cost in GBP\")\n",
    "\n",
    "\"\"\""
   ]
  },
  {
   "cell_type": "code",
   "execution_count": 341,
   "metadata": {},
   "outputs": [
    {
     "data": {
      "text/plain": [
       "'df= pd.DataFrame({\"total kWh\":bills_df[\"kWh\"],\"increase\":diff,\"cost\": cost, \"date\":bills_df.Date,\"days\":days_lst,\"consumption\":cons})\\nprint(\"-an average price for the UK is 18.75 p/kWh has been used\")\\nprint(\"-total days: {}\".format(time_span.days))\\ndf'"
      ]
     },
     "execution_count": 341,
     "metadata": {},
     "output_type": "execute_result"
    }
   ],
   "source": [
    "\"\"\"df= pd.DataFrame({\"total kWh\":bills_df[\"kWh\"],\"increase\":diff,\"cost\": cost, \"date\":bills_df.Date,\"days\":days_lst,\"consumption\":cons})\n",
    "print(\"-an average price for the UK is 18.75 p/kWh has been used\")\n",
    "print(\"-total days: {}\".format(time_span.days))\n",
    "df\"\"\""
   ]
  },
  {
   "cell_type": "code",
   "execution_count": 346,
   "metadata": {},
   "outputs": [
    {
     "data": {
      "image/png": "[encoded data removed]",
      "text/plain": [
       "<Figure size 432x288 with 1 Axes>"
      ]
     },
     "metadata": {
      "needs_background": "light"
     },
     "output_type": "display_data"
    },
    {
     "data": {
      "image/png": "[encoded data removed]",
      "text/plain": [
       "<Figure size 432x288 with 1 Axes>"
      ]
     },
     "metadata": {
      "needs_background": "light"
     },
     "output_type": "display_data"
    },
    {
     "data": {
      "image/png": "[encoded data removed]",
      "text/plain": [
       "<Figure size 432x288 with 1 Axes>"
      ]
     },
     "metadata": {
      "needs_background": "light"
     },
     "output_type": "display_data"
    },
    {
     "name": "stdout",
     "output_type": "stream",
     "text": [
      "-an average price for the UK is 18.75 p/kWh has been used\n",
      "-total days: 131\n"
     ]
    },
    {
     "data": {
      "text/html": [
       "<div>\n",
       "<style scoped>\n",
       "    .dataframe tbody tr th:only-of-type {\n",
       "        vertical-align: middle;\n",
       "    }\n",
       "\n",
       "    .dataframe tbody tr th {\n",
       "        vertical-align: top;\n",
       "    }\n",
       "\n",
       "    .dataframe thead th {\n",
       "        text-align: right;\n",
       "    }\n",
       "</style>\n",
       "<table border=\"1\" class=\"dataframe\">\n",
       "  <thead>\n",
       "    <tr style=\"text-align: right;\">\n",
       "      <th></th>\n",
       "      <th>total kWh</th>\n",
       "      <th>increase</th>\n",
       "      <th>cost</th>\n",
       "      <th>date</th>\n",
       "      <th>days</th>\n",
       "      <th>consumption</th>\n",
       "    </tr>\n",
       "  </thead>\n",
       "  <tbody>\n",
       "    <tr>\n",
       "      <th>0</th>\n",
       "      <td>59375.2</td>\n",
       "      <td>0.0</td>\n",
       "      <td>0.00000</td>\n",
       "      <td>06/06/2020</td>\n",
       "      <td>0</td>\n",
       "      <td>0.000000</td>\n",
       "    </tr>\n",
       "    <tr>\n",
       "      <th>1</th>\n",
       "      <td>59451.2</td>\n",
       "      <td>76.0</td>\n",
       "      <td>14.25000</td>\n",
       "      <td>25/06/2020</td>\n",
       "      <td>19</td>\n",
       "      <td>4.000000</td>\n",
       "    </tr>\n",
       "    <tr>\n",
       "      <th>2</th>\n",
       "      <td>59814.6</td>\n",
       "      <td>363.4</td>\n",
       "      <td>68.13750</td>\n",
       "      <td>15/08/2020</td>\n",
       "      <td>51</td>\n",
       "      <td>7.125490</td>\n",
       "    </tr>\n",
       "    <tr>\n",
       "      <th>3</th>\n",
       "      <td>59881.0</td>\n",
       "      <td>66.4</td>\n",
       "      <td>12.45000</td>\n",
       "      <td>06/09/2020</td>\n",
       "      <td>22</td>\n",
       "      <td>3.018182</td>\n",
       "    </tr>\n",
       "    <tr>\n",
       "      <th>4</th>\n",
       "      <td>60083.6</td>\n",
       "      <td>202.6</td>\n",
       "      <td>37.98750</td>\n",
       "      <td>28/09/2020</td>\n",
       "      <td>22</td>\n",
       "      <td>9.209091</td>\n",
       "    </tr>\n",
       "    <tr>\n",
       "      <th>5</th>\n",
       "      <td>60272.5</td>\n",
       "      <td>188.9</td>\n",
       "      <td>35.41875</td>\n",
       "      <td>11/10/2020</td>\n",
       "      <td>13</td>\n",
       "      <td>14.530769</td>\n",
       "    </tr>\n",
       "    <tr>\n",
       "      <th>6</th>\n",
       "      <td>60346.2</td>\n",
       "      <td>73.7</td>\n",
       "      <td>13.81875</td>\n",
       "      <td>15/10/2020</td>\n",
       "      <td>4</td>\n",
       "      <td>18.425000</td>\n",
       "    </tr>\n",
       "  </tbody>\n",
       "</table>\n",
       "</div>"
      ],
      "text/plain": [
       "   total kWh  increase      cost        date  days  consumption\n",
       "0    59375.2       0.0   0.00000  06/06/2020     0     0.000000\n",
       "1    59451.2      76.0  14.25000  25/06/2020    19     4.000000\n",
       "2    59814.6     363.4  68.13750  15/08/2020    51     7.125490\n",
       "3    59881.0      66.4  12.45000  06/09/2020    22     3.018182\n",
       "4    60083.6     202.6  37.98750  28/09/2020    22     9.209091\n",
       "5    60272.5     188.9  35.41875  11/10/2020    13    14.530769\n",
       "6    60346.2      73.7  13.81875  15/10/2020     4    18.425000"
      ]
     },
     "execution_count": 346,
     "metadata": {},
     "output_type": "execute_result"
    },
    {
     "data": {
      "image/png": "[encoded data removed]",
      "text/plain": [
       "<Figure size 432x288 with 1 Axes>"
      ]
     },
     "metadata": {
      "needs_background": "light"
     },
     "output_type": "display_data"
    }
   ],
   "source": [
    "plt.title(\"Kwh increase from previous reading (in kWh)\")\n",
    "\n",
    "plt.bar(range(len(diff)),diff)\n",
    "plt.xticks(range(len(diff)),bills_df.Date, rotation=20)\n",
    "plt.show()\n",
    "\n",
    "plt.title(\"increase from previous reading (kWh vs days)\")\n",
    "\n",
    "plt.bar(range(time_span.days+1),a)\n",
    "plt.xticks(x_ticks,bills_df.Date, rotation=20)\n",
    "\n",
    "plt.show()\n",
    "\n",
    "plt.title(\"daily average in Kwh\")\n",
    "\n",
    "plt.plot(range(len(daily_avg)),daily_avg)\n",
    "plt.xticks(x_ticks,bills_df.Date, rotation=20)\n",
    "plt.show()\n",
    "\n",
    "monthly_cost=monthly*0.1875\n",
    "monthly_cost.plot(table=True, kind=\"bar\", title=\"Monthly cost in GBP\")\n",
    "\n",
    "df= pd.DataFrame({\"total kWh\":bills_df[\"kWh\"],\"increase\":diff,\"cost\": cost, \"date\":bills_df.Date,\"days\":days_lst,\"consumption\":cons})\n",
    "print(\"-an average price for the UK is 18.75 p/kWh has been used\")\n",
    "print(\"-total days: {}\".format(time_span.days))\n",
    "df"
   ]
  },
  {
   "cell_type": "code",
   "execution_count": null,
   "metadata": {},
   "outputs": [],
   "source": []
  }
 ],
 "metadata": {
  "kernelspec": {
   "display_name": "Python 3",
   "language": "python",
   "name": "python3"
  },
  "language_info": {
   "codemirror_mode": {
    "name": "ipython",
    "version": 3
   },
   "file_extension": ".py",
   "mimetype": "text/x-python",
   "name": "python",
   "nbconvert_exporter": "python",
   "pygments_lexer": "ipython3",
   "version": "3.8.3"
  }
 },
 "nbformat": 4,
 "nbformat_minor": 4
}
